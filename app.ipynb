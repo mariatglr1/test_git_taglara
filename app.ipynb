{
 "cells": [
  {
   "metadata": {
    "tags": []
   },
   "cell_type": "code",
   "outputs": [
    {
     "name": "stderr",
     "output_type": "stream",
     "text": [
      "C:\\Users\\HP\\AppData\\Local\\Temp\\ipykernel_8508\\3892373071.py:84: FutureWarning: Downcasting object dtype arrays on .fillna, .ffill, .bfill is deprecated and will change in a future version. Call result.infer_objects(copy=False) instead. To opt-in to the future behavior, set `pd.set_option('future.no_silent_downcasting', True)`\n",
      "  ).fillna(0).infer_objects(copy=False)\n"
     ]
    }
   ],
   "execution_count": null,
   "source": [
    "import tkinter as tk\n",
    "from tkinter import filedialog, messagebox\n",
    "\n",
    "\n",
    "from utilities import (\n",
    "    get_weather_and_traffic_from_model,\n",
    "    assign_orders_with_weather_traffic_model,\n",
    "    load_data_from_excel,\n",
    ")\n",
    "\n",
    "# Zones with geographical coordinates and delivery/return times\n",
    "from zones_data import ZONE_DETAILS\n",
    "\n",
    "\n",
    "# Run assignment logic\n",
    "def run_assignment():\n",
    "    file_path = filedialog.askopenfilename(\n",
    "        title=\"Select Excel File\", filetypes=[(\"Excel Files\", \"*.xlsx\")]\n",
    "    )\n",
    "    if not file_path:\n",
    "        messagebox.showerror(\"Error\", \"No file selected!\")\n",
    "        return\n",
    "\n",
    "    # Load data from Excel file\n",
    "    orders_df, drivers_df, deviations_df = load_data_from_excel(file_path)\n",
    "\n",
    "    # Fetch traffic predictions using weather and model\n",
    "    traffic_data = get_weather_and_traffic_from_model(ZONE_DETAILS)\n",
    "\n",
    "    # Assign orders\n",
    "    assignments_df, unassigned_df = assign_orders_with_weather_traffic_model(\n",
    "        orders_df, drivers_df, deviations_df, ZONE_DETAILS, traffic_data\n",
    "    )\n",
    "\n",
    "    # Save results to Excel\n",
    "    assignments_df.to_excel(\"Assigned_Orders.xlsx\", index=False)\n",
    "    unassigned_df.to_excel(\"Unassigned_Orders.xlsx\", index=False)\n",
    "\n",
    "    # Display success message\n",
    "    messagebox.showinfo(\n",
    "        \"Success\", \"Results saved to Assigned_Orders.xlsx and Unassigned_Orders.xlsx!\"\n",
    "    )\n",
    "\n",
    "\n",
    "# Tkinter GUI\n",
    "root = tk.Tk()\n",
    "root.title(\"Order Assignment System\")\n",
    "\n",
    "label = tk.Label(\n",
    "    root, text=\"Welcome to the Order Assignment System\", font=(\"Arial\", 14)\n",
    ")\n",
    "label.pack(pady=10)\n",
    "\n",
    "assign_button = tk.Button(\n",
    "    root, text=\"Select File and Run Assignment\", command=run_assignment\n",
    ")\n",
    "assign_button.pack(pady=20)\n",
    "\n",
    "root.mainloop()"
   ],
   "id": "8802d84f-b7d0-4913-87b7-3ec4fe8bded7"
  }
 ],
 "metadata": {
  "kernelspec": {
   "display_name": "Python 3 (ipykernel)",
   "language": "python",
   "name": "python3"
  },
  "language_info": {
   "codemirror_mode": {
    "name": "ipython",
    "version": 3
   },
   "file_extension": ".py",
   "mimetype": "text/x-python",
   "name": "python",
   "nbconvert_exporter": "python",
   "pygments_lexer": "ipython3",
   "version": "3.11.8"
  }
 },
 "nbformat": 4,
 "nbformat_minor": 5
}
